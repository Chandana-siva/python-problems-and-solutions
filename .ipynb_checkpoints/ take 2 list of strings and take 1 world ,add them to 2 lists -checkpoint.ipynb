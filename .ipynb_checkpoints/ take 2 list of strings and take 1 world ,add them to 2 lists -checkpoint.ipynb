{
 "cells": [
  {
   "cell_type": "code",
   "execution_count": 2,
   "id": "f80fa9e2",
   "metadata": {},
   "outputs": [],
   "source": [
    "list_1=[\"siva\",\"gayathri\",\"divya\"]\n",
    "list_2=[\"ram\",\"babu\",\"akshay\"]\n",
    "word=\"garu\""
   ]
  },
  {
   "cell_type": "code",
   "execution_count": 3,
   "id": "3e161906",
   "metadata": {},
   "outputs": [],
   "source": [
    "def string(list_1,list_2,word):\n",
    "    a=[]\n",
    "    b=[]\n",
    "    for i in range(len(list_1)):\n",
    "        a.append(list_1[i]+word)\n",
    "    for i in range(len(list_2)):\n",
    "        b.append(list_2[i]+word)\n",
    "    return a,b"
   ]
  },
  {
   "cell_type": "code",
   "execution_count": 4,
   "id": "3f0cb9cd",
   "metadata": {},
   "outputs": [
    {
     "data": {
      "text/plain": [
       "(['sivagaru', 'gayathrigaru', 'divyagaru'],\n",
       " ['ramgaru', 'babugaru', 'akshaygaru'])"
      ]
     },
     "execution_count": 4,
     "metadata": {},
     "output_type": "execute_result"
    }
   ],
   "source": [
    "#calling the function \n",
    "string(list_1,list_2,word)"
   ]
  },
  {
   "cell_type": "code",
   "execution_count": null,
   "id": "d7cb266d",
   "metadata": {},
   "outputs": [],
   "source": []
  }
 ],
 "metadata": {
  "kernelspec": {
   "display_name": "Python 3 (ipykernel)",
   "language": "python",
   "name": "python3"
  },
  "language_info": {
   "codemirror_mode": {
    "name": "ipython",
    "version": 3
   },
   "file_extension": ".py",
   "mimetype": "text/x-python",
   "name": "python",
   "nbconvert_exporter": "python",
   "pygments_lexer": "ipython3",
   "version": "3.9.13"
  }
 },
 "nbformat": 4,
 "nbformat_minor": 5
}
