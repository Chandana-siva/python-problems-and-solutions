{
 "cells": [
  {
   "cell_type": "code",
   "execution_count": 11,
   "id": "2b2bb290",
   "metadata": {},
   "outputs": [],
   "source": [
    "\n",
    "def rem(l):\n",
    "    inde=[]\n",
    "    res=[]\n",
    "    for i in range(1,300):\n",
    "        inde.append(i)\n",
    "    for i in inde:\n",
    "        if i in l:\n",
    "            res.append(i)\n",
    "    return res"
   ]
  },
  {
   "cell_type": "code",
   "execution_count": 13,
   "id": "c913d494",
   "metadata": {},
   "outputs": [
    {
     "data": {
      "text/plain": [
       "[1, 2, 3, 4, 5, 6, 11, 93]"
      ]
     },
     "execution_count": 13,
     "metadata": {},
     "output_type": "execute_result"
    }
   ],
   "source": [
    "l=[93,11,2,11,2,1,1,3,3,4,5,6]\n",
    "rem(l)"
   ]
  },
  {
   "cell_type": "code",
   "execution_count": 14,
   "id": "163a4d08",
   "metadata": {},
   "outputs": [
    {
     "data": {
      "text/plain": [
       "'C:\\\\Users\\\\CH SIVA\\\\python'"
      ]
     },
     "execution_count": 14,
     "metadata": {},
     "output_type": "execute_result"
    }
   ],
   "source": [
    "pwd"
   ]
  }
 ],
 "metadata": {
  "kernelspec": {
   "display_name": "Python 3 (ipykernel)",
   "language": "python",
   "name": "python3"
  },
  "language_info": {
   "codemirror_mode": {
    "name": "ipython",
    "version": 3
   },
   "file_extension": ".py",
   "mimetype": "text/x-python",
   "name": "python",
   "nbconvert_exporter": "python",
   "pygments_lexer": "ipython3",
   "version": "3.9.13"
  }
 },
 "nbformat": 4,
 "nbformat_minor": 5
}
