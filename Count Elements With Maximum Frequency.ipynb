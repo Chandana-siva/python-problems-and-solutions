{
 "cells": [
  {
   "cell_type": "code",
   "execution_count": 43,
   "id": "f3648af1",
   "metadata": {},
   "outputs": [],
   "source": [
    "# Count Elements With Maximum Frequency\n",
    "\n",
    "def frequency(a):\n",
    "    \n",
    "    count=0\n",
    "    inde=[]\n",
    "    for i in range(1,888888):\n",
    "        inde.append(i)\n",
    "    for i in inde:\n",
    "        if i in a:\n",
    "            if i==a:\n",
    "                count+=0\n",
    "            else:\n",
    "                count+=1\n",
    "    return count"
   ]
  },
  {
   "cell_type": "code",
   "execution_count": 41,
   "id": "404f50fc",
   "metadata": {},
   "outputs": [
    {
     "data": {
      "text/plain": [
       "11"
      ]
     },
     "execution_count": 41,
     "metadata": {},
     "output_type": "execute_result"
    }
   ],
   "source": [
    "a=[1,2,9,1,1,3,4,5,6,7,8,8,9,10,578]\n",
    "frequency(a)"
   ]
  }
 ],
 "metadata": {
  "kernelspec": {
   "display_name": "Python 3 (ipykernel)",
   "language": "python",
   "name": "python3"
  },
  "language_info": {
   "codemirror_mode": {
    "name": "ipython",
    "version": 3
   },
   "file_extension": ".py",
   "mimetype": "text/x-python",
   "name": "python",
   "nbconvert_exporter": "python",
   "pygments_lexer": "ipython3",
   "version": "3.9.13"
  }
 },
 "nbformat": 4,
 "nbformat_minor": 5
}
