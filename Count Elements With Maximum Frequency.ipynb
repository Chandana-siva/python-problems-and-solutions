{
 "cells": [
  {
   "cell_type": "code",
   "execution_count": 34,
   "id": "5914a4be",
   "metadata": {},
   "outputs": [
    {
     "name": "stdout",
     "output_type": "stream",
     "text": [
      "10\n"
     ]
    }
   ],
   "source": [
    "def frequency(a):\n",
    "    \n",
    "    count=0\n",
    "    for i in range(len(a)):\n",
    "        if i in a:\n",
    "            if i==a:\n",
    "            count+=0\n",
    "        else:\n",
    "            count+=1\n",
    "print(count)"
   ]
  },
  {
   "cell_type": "code",
   "execution_count": null,
   "id": "3be8abfc",
   "metadata": {},
   "outputs": [],
   "source": [
    "a=[1,2,9,1,1,3,4,5,6,7,8,8,9,10"
   ]
  }
 ],
 "metadata": {
  "kernelspec": {
   "display_name": "Python 3 (ipykernel)",
   "language": "python",
   "name": "python3"
  },
  "language_info": {
   "codemirror_mode": {
    "name": "ipython",
    "version": 3
   },
   "file_extension": ".py",
   "mimetype": "text/x-python",
   "name": "python",
   "nbconvert_exporter": "python",
   "pygments_lexer": "ipython3",
   "version": "3.9.13"
  }
 },
 "nbformat": 4,
 "nbformat_minor": 5
}
