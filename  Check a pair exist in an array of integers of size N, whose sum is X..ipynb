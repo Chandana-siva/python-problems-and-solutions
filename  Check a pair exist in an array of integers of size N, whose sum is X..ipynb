{
 "cells": [
  {
   "cell_type": "code",
   "execution_count": 4,
   "id": "bb6308de",
   "metadata": {},
   "outputs": [],
   "source": [
    "def Sum(nums,X):                       # name of the function is sum\n",
    "\n",
    "    n = len(nums)                   # checking len value of nums\n",
    "    for i in range(n):             # Iterate over each index i in the range from 0 to n-1\n",
    "        for j in range(i, n):       # Iterate over each index j in the range from i to n-1\n",
    "            if(nums[i] + nums[j] == X):\n",
    "                return f\"true, the pair is : {nums[i],nums[j]}\"\n",
    "    return \"pair not found\""
   ]
  },
  {
   "cell_type": "code",
   "execution_count": 7,
   "id": "5b1a1454",
   "metadata": {},
   "outputs": [
    {
     "data": {
      "text/plain": [
       "'true, the pair is : (4, 4)'"
      ]
     },
     "execution_count": 7,
     "metadata": {},
     "output_type": "execute_result"
    }
   ],
   "source": [
    "nums = [2, 4, 5, 3, 8, 7]     #a list of integers named 'x'\n",
    "X=8                            # target value\n",
    "Sum(nums,X)"
   ]
  },
  {
   "cell_type": "code",
   "execution_count": 9,
   "id": "363c27bf",
   "metadata": {},
   "outputs": [
    {
     "data": {
      "text/plain": [
       "'true, the pair is : (4, 7)'"
      ]
     },
     "execution_count": 9,
     "metadata": {},
     "output_type": "execute_result"
    }
   ],
   "source": [
    "nums = [2, 4, 5, 3, 8, 7]     #a list of integers named 'x'\n",
    "X=11                           # target value\n",
    "Sum(nums,X)"
   ]
  },
  {
   "cell_type": "code",
   "execution_count": 11,
   "id": "13241b8b",
   "metadata": {},
   "outputs": [
    {
     "data": {
      "text/plain": [
       "'pair not found'"
      ]
     },
     "execution_count": 11,
     "metadata": {},
     "output_type": "execute_result"
    }
   ],
   "source": [
    "nums = [2, 4, 5, 3, 8, 7]     #a list of integers named 'x'\n",
    "X=81                            # target value\n",
    "Sum(nums,X)"
   ]
  }
 ],
 "metadata": {
  "kernelspec": {
   "display_name": "Python 3 (ipykernel)",
   "language": "python",
   "name": "python3"
  },
  "language_info": {
   "codemirror_mode": {
    "name": "ipython",
    "version": 3
   },
   "file_extension": ".py",
   "mimetype": "text/x-python",
   "name": "python",
   "nbconvert_exporter": "python",
   "pygments_lexer": "ipython3",
   "version": "3.9.13"
  }
 },
 "nbformat": 4,
 "nbformat_minor": 5
}
