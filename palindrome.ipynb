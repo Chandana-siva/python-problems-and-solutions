{
 "cells": [
  {
   "cell_type": "code",
   "execution_count": 1,
   "id": "322b1ac6",
   "metadata": {},
   "outputs": [],
   "source": [
    "def palindrome(string):\n",
    "    rev=''\n",
    "    for i in range(len(string)-1,-1,-1):\n",
    "        rev+=(string[i])\n",
    "    if string==rev:\n",
    "        return print(\"the string is palindrome\")\n",
    "    else:\n",
    "        return print(\"this is not palindrome\")"
   ]
  },
  {
   "cell_type": "code",
   "execution_count": 2,
   "id": "3db859f1",
   "metadata": {},
   "outputs": [
    {
     "name": "stdout",
     "output_type": "stream",
     "text": [
      "the string is palindrome\n"
     ]
    }
   ],
   "source": [
    "string='mam'\n",
    "palindrome(string)"
   ]
  },
  {
   "cell_type": "code",
   "execution_count": null,
   "id": "15ba32c8",
   "metadata": {},
   "outputs": [],
   "source": []
  }
 ],
 "metadata": {
  "kernelspec": {
   "display_name": "Python 3 (ipykernel)",
   "language": "python",
   "name": "python3"
  },
  "language_info": {
   "codemirror_mode": {
    "name": "ipython",
    "version": 3
   },
   "file_extension": ".py",
   "mimetype": "text/x-python",
   "name": "python",
   "nbconvert_exporter": "python",
   "pygments_lexer": "ipython3",
   "version": "3.9.13"
  }
 },
 "nbformat": 4,
 "nbformat_minor": 5
}
